{
 "cells": [
  {
   "cell_type": "code",
   "execution_count": 1,
   "metadata": {
    "collapsed": true
   },
   "outputs": [],
   "source": [
    "from os import listdir\n",
    "import shutil\n",
    "import random\n",
    "\n",
    "import numpy as np\n",
    "import rembg\n",
    "import rembg.bg\n",
    "from PIL import Image\n",
    "\n",
    "from tqdm import tqdm"
   ]
  },
  {
   "cell_type": "code",
   "execution_count": 2,
   "outputs": [
    {
     "name": "stderr",
     "output_type": "stream",
     "text": [
      "100%|██████████| 10800/10800 [11:09<00:00, 16.14it/s]\n"
     ]
    }
   ],
   "source": [
    "img_files = listdir('./img_crawled/')\n",
    "\n",
    "for img_file in tqdm(img_files):\n",
    "\n",
    "    img_path = './img_crawled/' + img_file\n",
    "    end_path = './img_resized/' + img_file.split(\".\")[0] + '.png'\n",
    "    # mask_path = './img_768_masks/' + img_file.split(\".\")[0] + '.png'\n",
    "\n",
    "    img = Image.open(img_path)\n",
    "    x, y = img.size\n",
    "    size = max(x, y)\n",
    "    new_im = Image.new(mode=\"RGB\", size=(size, size), color=(255,255,255))\n",
    "    new_im.paste(img, (int((size - x) / 2), int((size - y) / 2)))\n",
    "    new_im = new_im.resize((512,512))\n",
    "    new_im.save(end_path)\n",
    "\n",
    "    # size = max(x, y)\n",
    "    # mask_im = Image.new(mode=\"RGB\", size=(size, size), color=(0,0,0))\n",
    "    # mask_white = Image.new(mode=\"RGB\", size=(x, y), color=(255,255,255))\n",
    "    # mask_im.paste(mask_white, (int((size - x) / 2), int((size - y) / 2)))\n",
    "    # mask_im = mask_im.resize((768,768))\n",
    "    # mask_im.save(mask_path)"
   ],
   "metadata": {
    "collapsed": false
   }
  },
  {
   "cell_type": "code",
   "execution_count": 2,
   "outputs": [],
   "source": [],
   "metadata": {
    "collapsed": false
   }
  }
 ],
 "metadata": {
  "kernelspec": {
   "display_name": "Python 3",
   "language": "python",
   "name": "python3"
  },
  "language_info": {
   "codemirror_mode": {
    "name": "ipython",
    "version": 2
   },
   "file_extension": ".py",
   "mimetype": "text/x-python",
   "name": "python",
   "nbconvert_exporter": "python",
   "pygments_lexer": "ipython2",
   "version": "2.7.6"
  }
 },
 "nbformat": 4,
 "nbformat_minor": 0
}
