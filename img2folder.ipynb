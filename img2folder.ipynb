{
 "cells": [
  {
   "cell_type": "code",
   "execution_count": 7,
   "metadata": {
    "collapsed": true
   },
   "outputs": [],
   "source": [
    "import os\n",
    "import shutil"
   ]
  },
  {
   "cell_type": "code",
   "execution_count": 13,
   "outputs": [
    {
     "name": "stdout",
     "output_type": "stream",
     "text": [
      "Copied C:\\Users\\hirva\\Desktop\\car_commercial_image\\car_pictorial\\109.png as C:\\Users\\hirva\\Desktop\\car_commercial_image\\img_integration\\109_3.png\n",
      "Copied C:\\Users\\hirva\\Desktop\\car_commercial_image\\car_pictorial\\11.png as C:\\Users\\hirva\\Desktop\\car_commercial_image\\img_integration\\11_4.png\n",
      "Copied C:\\Users\\hirva\\Desktop\\car_commercial_image\\car_pictorial\\110.png as C:\\Users\\hirva\\Desktop\\car_commercial_image\\img_integration\\110_3.png\n",
      "Copied C:\\Users\\hirva\\Desktop\\car_commercial_image\\car_pictorial\\114.png as C:\\Users\\hirva\\Desktop\\car_commercial_image\\img_integration\\114_3.png\n",
      "Copied C:\\Users\\hirva\\Desktop\\car_commercial_image\\car_pictorial\\116.png as C:\\Users\\hirva\\Desktop\\car_commercial_image\\img_integration\\116_3.png\n",
      "Copied C:\\Users\\hirva\\Desktop\\car_commercial_image\\car_pictorial\\119.png as C:\\Users\\hirva\\Desktop\\car_commercial_image\\img_integration\\119_3.png\n",
      "Copied C:\\Users\\hirva\\Desktop\\car_commercial_image\\car_pictorial\\122.png as C:\\Users\\hirva\\Desktop\\car_commercial_image\\img_integration\\122_4.png\n",
      "Copied C:\\Users\\hirva\\Desktop\\car_commercial_image\\car_pictorial\\149.png as C:\\Users\\hirva\\Desktop\\car_commercial_image\\img_integration\\149_3.png\n",
      "Copied C:\\Users\\hirva\\Desktop\\car_commercial_image\\car_pictorial\\158.png as C:\\Users\\hirva\\Desktop\\car_commercial_image\\img_integration\\158_3.png\n",
      "Copied C:\\Users\\hirva\\Desktop\\car_commercial_image\\car_pictorial\\170.png as C:\\Users\\hirva\\Desktop\\car_commercial_image\\img_integration\\170_3.png\n",
      "Copied C:\\Users\\hirva\\Desktop\\car_commercial_image\\car_pictorial\\178.png as C:\\Users\\hirva\\Desktop\\car_commercial_image\\img_integration\\178_3.png\n",
      "Copied C:\\Users\\hirva\\Desktop\\car_commercial_image\\car_pictorial\\18.png as C:\\Users\\hirva\\Desktop\\car_commercial_image\\img_integration\\18_3.png\n",
      "Copied C:\\Users\\hirva\\Desktop\\car_commercial_image\\car_pictorial\\192.png as C:\\Users\\hirva\\Desktop\\car_commercial_image\\img_integration\\192_3.png\n",
      "Copied C:\\Users\\hirva\\Desktop\\car_commercial_image\\car_pictorial\\193.png as C:\\Users\\hirva\\Desktop\\car_commercial_image\\img_integration\\193_3.png\n",
      "Copied C:\\Users\\hirva\\Desktop\\car_commercial_image\\car_pictorial\\2.png as C:\\Users\\hirva\\Desktop\\car_commercial_image\\img_integration\\2_3.png\n",
      "Copied C:\\Users\\hirva\\Desktop\\car_commercial_image\\car_pictorial\\201.png as C:\\Users\\hirva\\Desktop\\car_commercial_image\\img_integration\\201_3.png\n",
      "Copied C:\\Users\\hirva\\Desktop\\car_commercial_image\\car_pictorial\\209.png as C:\\Users\\hirva\\Desktop\\car_commercial_image\\img_integration\\209_3.png\n",
      "Copied C:\\Users\\hirva\\Desktop\\car_commercial_image\\car_pictorial\\213.png as C:\\Users\\hirva\\Desktop\\car_commercial_image\\img_integration\\213_3.png\n",
      "Copied C:\\Users\\hirva\\Desktop\\car_commercial_image\\car_pictorial\\215.png as C:\\Users\\hirva\\Desktop\\car_commercial_image\\img_integration\\215_3.png\n",
      "Copied C:\\Users\\hirva\\Desktop\\car_commercial_image\\car_pictorial\\216.png as C:\\Users\\hirva\\Desktop\\car_commercial_image\\img_integration\\216_3.png\n",
      "Copied C:\\Users\\hirva\\Desktop\\car_commercial_image\\car_pictorial\\22.png as C:\\Users\\hirva\\Desktop\\car_commercial_image\\img_integration\\22_4.png\n",
      "Copied C:\\Users\\hirva\\Desktop\\car_commercial_image\\car_pictorial\\221.png as C:\\Users\\hirva\\Desktop\\car_commercial_image\\img_integration\\221_3.png\n",
      "Copied C:\\Users\\hirva\\Desktop\\car_commercial_image\\car_pictorial\\224.png as C:\\Users\\hirva\\Desktop\\car_commercial_image\\img_integration\\224_3.png\n",
      "Copied C:\\Users\\hirva\\Desktop\\car_commercial_image\\car_pictorial\\225.png as C:\\Users\\hirva\\Desktop\\car_commercial_image\\img_integration\\225_3.png\n",
      "Copied C:\\Users\\hirva\\Desktop\\car_commercial_image\\car_pictorial\\233.png as C:\\Users\\hirva\\Desktop\\car_commercial_image\\img_integration\\233_3.png\n",
      "Copied C:\\Users\\hirva\\Desktop\\car_commercial_image\\car_pictorial\\236.png as C:\\Users\\hirva\\Desktop\\car_commercial_image\\img_integration\\236_3.png\n",
      "Copied C:\\Users\\hirva\\Desktop\\car_commercial_image\\car_pictorial\\249.png as C:\\Users\\hirva\\Desktop\\car_commercial_image\\img_integration\\249_3.png\n",
      "Copied C:\\Users\\hirva\\Desktop\\car_commercial_image\\car_pictorial\\273.png as C:\\Users\\hirva\\Desktop\\car_commercial_image\\img_integration\\273_3.png\n",
      "Copied C:\\Users\\hirva\\Desktop\\car_commercial_image\\car_pictorial\\29.png as C:\\Users\\hirva\\Desktop\\car_commercial_image\\img_integration\\29_4.png\n",
      "Copied C:\\Users\\hirva\\Desktop\\car_commercial_image\\car_pictorial\\290.png as C:\\Users\\hirva\\Desktop\\car_commercial_image\\img_integration\\290_3.png\n",
      "Copied C:\\Users\\hirva\\Desktop\\car_commercial_image\\car_pictorial\\293.png as C:\\Users\\hirva\\Desktop\\car_commercial_image\\img_integration\\293_3.png\n",
      "Copied C:\\Users\\hirva\\Desktop\\car_commercial_image\\car_pictorial\\296.png as C:\\Users\\hirva\\Desktop\\car_commercial_image\\img_integration\\296_3.png\n",
      "Copied C:\\Users\\hirva\\Desktop\\car_commercial_image\\car_pictorial\\320.png as C:\\Users\\hirva\\Desktop\\car_commercial_image\\img_integration\\320_3.png\n",
      "Copied C:\\Users\\hirva\\Desktop\\car_commercial_image\\car_pictorial\\324.png as C:\\Users\\hirva\\Desktop\\car_commercial_image\\img_integration\\324_3.png\n",
      "Copied C:\\Users\\hirva\\Desktop\\car_commercial_image\\car_pictorial\\330.png as C:\\Users\\hirva\\Desktop\\car_commercial_image\\img_integration\\330_4.png\n",
      "Copied C:\\Users\\hirva\\Desktop\\car_commercial_image\\car_pictorial\\338.png as C:\\Users\\hirva\\Desktop\\car_commercial_image\\img_integration\\338_3.png\n",
      "Copied C:\\Users\\hirva\\Desktop\\car_commercial_image\\car_pictorial\\350.png as C:\\Users\\hirva\\Desktop\\car_commercial_image\\img_integration\\350_3.png\n",
      "Copied C:\\Users\\hirva\\Desktop\\car_commercial_image\\car_pictorial\\351.png as C:\\Users\\hirva\\Desktop\\car_commercial_image\\img_integration\\351_3.png\n",
      "Copied C:\\Users\\hirva\\Desktop\\car_commercial_image\\car_pictorial\\358.png as C:\\Users\\hirva\\Desktop\\car_commercial_image\\img_integration\\358_3.png\n",
      "Copied C:\\Users\\hirva\\Desktop\\car_commercial_image\\car_pictorial\\4.png as C:\\Users\\hirva\\Desktop\\car_commercial_image\\img_integration\\4_3.png\n",
      "Copied C:\\Users\\hirva\\Desktop\\car_commercial_image\\car_pictorial\\410.png as C:\\Users\\hirva\\Desktop\\car_commercial_image\\img_integration\\410_3.png\n",
      "Copied C:\\Users\\hirva\\Desktop\\car_commercial_image\\car_pictorial\\414.png as C:\\Users\\hirva\\Desktop\\car_commercial_image\\img_integration\\414_3.png\n",
      "Copied C:\\Users\\hirva\\Desktop\\car_commercial_image\\car_pictorial\\415.png as C:\\Users\\hirva\\Desktop\\car_commercial_image\\img_integration\\415_3.png\n",
      "Copied C:\\Users\\hirva\\Desktop\\car_commercial_image\\car_pictorial\\417.png as C:\\Users\\hirva\\Desktop\\car_commercial_image\\img_integration\\417_3.png\n",
      "Copied C:\\Users\\hirva\\Desktop\\car_commercial_image\\car_pictorial\\425.png as C:\\Users\\hirva\\Desktop\\car_commercial_image\\img_integration\\425_3.png\n",
      "Copied C:\\Users\\hirva\\Desktop\\car_commercial_image\\car_pictorial\\444.png as C:\\Users\\hirva\\Desktop\\car_commercial_image\\img_integration\\444_3.png\n",
      "Copied C:\\Users\\hirva\\Desktop\\car_commercial_image\\car_pictorial\\446.png as C:\\Users\\hirva\\Desktop\\car_commercial_image\\img_integration\\446_3.png\n",
      "Copied C:\\Users\\hirva\\Desktop\\car_commercial_image\\car_pictorial\\461.png as C:\\Users\\hirva\\Desktop\\car_commercial_image\\img_integration\\461_3.png\n",
      "Copied C:\\Users\\hirva\\Desktop\\car_commercial_image\\car_pictorial\\467.png as C:\\Users\\hirva\\Desktop\\car_commercial_image\\img_integration\\467_3.png\n",
      "Copied C:\\Users\\hirva\\Desktop\\car_commercial_image\\car_pictorial\\468.png as C:\\Users\\hirva\\Desktop\\car_commercial_image\\img_integration\\468_3.png\n",
      "Copied C:\\Users\\hirva\\Desktop\\car_commercial_image\\car_pictorial\\47.png as C:\\Users\\hirva\\Desktop\\car_commercial_image\\img_integration\\47_3.png\n",
      "Copied C:\\Users\\hirva\\Desktop\\car_commercial_image\\car_pictorial\\49.png as C:\\Users\\hirva\\Desktop\\car_commercial_image\\img_integration\\49_3.png\n",
      "Copied C:\\Users\\hirva\\Desktop\\car_commercial_image\\car_pictorial\\496.png as C:\\Users\\hirva\\Desktop\\car_commercial_image\\img_integration\\496_3.png\n",
      "Copied C:\\Users\\hirva\\Desktop\\car_commercial_image\\car_pictorial\\5.png as C:\\Users\\hirva\\Desktop\\car_commercial_image\\img_integration\\5_4.png\n",
      "Copied C:\\Users\\hirva\\Desktop\\car_commercial_image\\car_pictorial\\505.png as C:\\Users\\hirva\\Desktop\\car_commercial_image\\img_integration\\505_3.png\n",
      "Copied C:\\Users\\hirva\\Desktop\\car_commercial_image\\car_pictorial\\508.png as C:\\Users\\hirva\\Desktop\\car_commercial_image\\img_integration\\508_3.png\n",
      "Copied C:\\Users\\hirva\\Desktop\\car_commercial_image\\car_pictorial\\52.png as C:\\Users\\hirva\\Desktop\\car_commercial_image\\img_integration\\52_3.png\n",
      "Copied C:\\Users\\hirva\\Desktop\\car_commercial_image\\car_pictorial\\53.png as C:\\Users\\hirva\\Desktop\\car_commercial_image\\img_integration\\53_3.png\n",
      "Copied C:\\Users\\hirva\\Desktop\\car_commercial_image\\car_pictorial\\539.png as C:\\Users\\hirva\\Desktop\\car_commercial_image\\img_integration\\539_3.png\n",
      "Copied C:\\Users\\hirva\\Desktop\\car_commercial_image\\car_pictorial\\54.png as C:\\Users\\hirva\\Desktop\\car_commercial_image\\img_integration\\54_3.png\n",
      "Copied C:\\Users\\hirva\\Desktop\\car_commercial_image\\car_pictorial\\547.png as C:\\Users\\hirva\\Desktop\\car_commercial_image\\img_integration\\547_3.png\n",
      "Copied C:\\Users\\hirva\\Desktop\\car_commercial_image\\car_pictorial\\56.png as C:\\Users\\hirva\\Desktop\\car_commercial_image\\img_integration\\56_3.png\n",
      "Copied C:\\Users\\hirva\\Desktop\\car_commercial_image\\car_pictorial\\585.png as C:\\Users\\hirva\\Desktop\\car_commercial_image\\img_integration\\585_3.png\n",
      "Copied C:\\Users\\hirva\\Desktop\\car_commercial_image\\car_pictorial\\594.png as C:\\Users\\hirva\\Desktop\\car_commercial_image\\img_integration\\594_3.png\n",
      "Copied C:\\Users\\hirva\\Desktop\\car_commercial_image\\car_pictorial\\6.png as C:\\Users\\hirva\\Desktop\\car_commercial_image\\img_integration\\6_3.png\n",
      "Copied C:\\Users\\hirva\\Desktop\\car_commercial_image\\car_pictorial\\61.png as C:\\Users\\hirva\\Desktop\\car_commercial_image\\img_integration\\61_3.png\n",
      "Copied C:\\Users\\hirva\\Desktop\\car_commercial_image\\car_pictorial\\64.png as C:\\Users\\hirva\\Desktop\\car_commercial_image\\img_integration\\64_3.png\n",
      "Copied C:\\Users\\hirva\\Desktop\\car_commercial_image\\car_pictorial\\640.png as C:\\Users\\hirva\\Desktop\\car_commercial_image\\img_integration\\640_3.png\n",
      "Copied C:\\Users\\hirva\\Desktop\\car_commercial_image\\car_pictorial\\67.png as C:\\Users\\hirva\\Desktop\\car_commercial_image\\img_integration\\67_3.png\n",
      "Copied C:\\Users\\hirva\\Desktop\\car_commercial_image\\car_pictorial\\726.png as C:\\Users\\hirva\\Desktop\\car_commercial_image\\img_integration\\726_3.png\n",
      "Copied C:\\Users\\hirva\\Desktop\\car_commercial_image\\car_pictorial\\73.png as C:\\Users\\hirva\\Desktop\\car_commercial_image\\img_integration\\73_3.png\n",
      "Copied C:\\Users\\hirva\\Desktop\\car_commercial_image\\car_pictorial\\75.png as C:\\Users\\hirva\\Desktop\\car_commercial_image\\img_integration\\75_3.png\n",
      "Copied C:\\Users\\hirva\\Desktop\\car_commercial_image\\car_pictorial\\78.png as C:\\Users\\hirva\\Desktop\\car_commercial_image\\img_integration\\78_3.png\n",
      "Copied C:\\Users\\hirva\\Desktop\\car_commercial_image\\car_pictorial\\81.png as C:\\Users\\hirva\\Desktop\\car_commercial_image\\img_integration\\81_3.png\n",
      "Copied C:\\Users\\hirva\\Desktop\\car_commercial_image\\car_pictorial\\88.png as C:\\Users\\hirva\\Desktop\\car_commercial_image\\img_integration\\88_3.png\n",
      "Copied C:\\Users\\hirva\\Desktop\\car_commercial_image\\car_pictorial\\93.png as C:\\Users\\hirva\\Desktop\\car_commercial_image\\img_integration\\93_3.png\n",
      "Copied C:\\Users\\hirva\\Desktop\\car_commercial_image\\car_pictorial\\97.png as C:\\Users\\hirva\\Desktop\\car_commercial_image\\img_integration\\97_3.png\n",
      "Copied C:\\Users\\hirva\\Desktop\\car_commercial_image\\car_pictorial\\98.png as C:\\Users\\hirva\\Desktop\\car_commercial_image\\img_integration\\98_3.png\n"
     ]
    }
   ],
   "source": [
    "movdir = os.getcwd() + '\\\\car_pictorial'\n",
    "basedir = os.getcwd() + '\\\\img_integration'\n",
    "# Walk through all files in the directory that contains the files to copy\n",
    "for root, dirs, files in os.walk(movdir):\n",
    "    for filename in files:\n",
    "        # I use absolute path, case you want to move several dirs.\n",
    "        old_name = os.path.join( os.path.abspath(root), filename )\n",
    "\n",
    "        # Separate base from extension\n",
    "        base, extension = os.path.splitext(filename)\n",
    "\n",
    "        # Initial new name\n",
    "        new_name = os.path.join(basedir, filename)\n",
    "\n",
    "        # If folder basedir/base does not exist... You don't want to create it?\n",
    "        if not os.path.exists(basedir):\n",
    "            # print(os.path.join(basedir,base), \"not found\")\n",
    "            continue    # Next filename\n",
    "        elif not os.path.exists(new_name):  # folder exists, file does not\n",
    "            shutil.copy(old_name, new_name)\n",
    "        else:  # folder exists, file exists as well\n",
    "            ii = 3\n",
    "            while True:\n",
    "                new_name = os.path.join(basedir, base + \"_\" + str(ii) + extension)\n",
    "                if not os.path.exists(new_name):\n",
    "                   shutil.copy(old_name, new_name)\n",
    "                   print(\"Copied\", old_name, \"as\", new_name)\n",
    "                   break\n",
    "                ii += 1\n"
   ],
   "metadata": {
    "collapsed": false
   }
  },
  {
   "cell_type": "code",
   "execution_count": 9,
   "outputs": [
    {
     "data": {
      "text/plain": "'C:\\\\Users\\\\hirva\\\\Desktop\\\\car_commercial_image'"
     },
     "execution_count": 9,
     "metadata": {},
     "output_type": "execute_result"
    }
   ],
   "source": [
    "os.getcwd()"
   ],
   "metadata": {
    "collapsed": false
   }
  },
  {
   "cell_type": "code",
   "execution_count": 10,
   "outputs": [
    {
     "data": {
      "text/plain": "'C:\\\\Users\\\\hirva\\\\Desktop\\\\car_commercial_image\\\\best_car_image'"
     },
     "execution_count": 10,
     "metadata": {},
     "output_type": "execute_result"
    }
   ],
   "source": [
    "movdir"
   ],
   "metadata": {
    "collapsed": false
   }
  },
  {
   "cell_type": "code",
   "execution_count": 10,
   "outputs": [],
   "source": [],
   "metadata": {
    "collapsed": false
   }
  }
 ],
 "metadata": {
  "kernelspec": {
   "display_name": "Python 3",
   "language": "python",
   "name": "python3"
  },
  "language_info": {
   "codemirror_mode": {
    "name": "ipython",
    "version": 2
   },
   "file_extension": ".py",
   "mimetype": "text/x-python",
   "name": "python",
   "nbconvert_exporter": "python",
   "pygments_lexer": "ipython2",
   "version": "2.7.6"
  }
 },
 "nbformat": 4,
 "nbformat_minor": 0
}
